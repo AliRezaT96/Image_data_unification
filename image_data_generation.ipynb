{
  "nbformat": 4,
  "nbformat_minor": 0,
  "metadata": {
    "colab": {
      "provenance": [],
      "collapsed_sections": []
    },
    "kernelspec": {
      "name": "python3",
      "display_name": "Python 3"
    },
    "language_info": {
      "name": "python"
    }
  },
  "cells": [
    {
      "cell_type": "code",
      "source": [
        "!pip install dicttoxml"
      ],
      "metadata": {
        "id": "vQ8Gex_L8X5p"
      },
      "execution_count": null,
      "outputs": []
    },
    {
      "cell_type": "code",
      "execution_count": null,
      "metadata": {
        "colab": {
          "base_uri": "https://localhost:8080/"
        },
        "id": "0D1-qdCFUrWI",
        "outputId": "4b51db84-3ed3-4267-8a05-34938b515ff6"
      },
      "outputs": [
        {
          "output_type": "stream",
          "name": "stdout",
          "text": [
            "Mounted at /content/drive\n"
          ]
        }
      ],
      "source": [
        "from google.colab import drive\n",
        "drive.mount('/content/drive')"
      ]
    },
    {
      "cell_type": "code",
      "source": [
        "import pandas as pd\n",
        "import cv2\n",
        "from dicttoxml import dicttoxml"
      ],
      "metadata": {
        "id": "Fm0HZJXXU-pT"
      },
      "execution_count": null,
      "outputs": []
    },
    {
      "cell_type": "code",
      "source": [
        "# unzip image file\n",
        "!unzip /content/drive/MyDrive/img.zip"
      ],
      "metadata": {
        "id": "l9xXg_lmp8J2"
      },
      "execution_count": null,
      "outputs": []
    },
    {
      "cell_type": "code",
      "source": [
        "# list_bbox_inshop data\n",
        "data = []\n",
        "with open('/content/drive/MyDrive/In-shop Clothes Retrieval Benchmark/Anno/list_bbox_inshop.txt', 'r') as f:\n",
        "    for line in f.readlines():\n",
        "        line = line.strip('\\n')\n",
        "        data.append(line.split())\n",
        "del data[0], data[0]"
      ],
      "metadata": {
        "id": "bRCd-47uV3jM"
      },
      "execution_count": null,
      "outputs": []
    },
    {
      "cell_type": "code",
      "source": [
        "# # description data list_description_inshop.json\n",
        "description = pd.read_json('/content/drive/MyDrive/In-shop Clothes Retrieval Benchmark/Anno/list_description_inshop.json')"
      ],
      "metadata": {
        "id": "jHXFFkeFpFuW"
      },
      "execution_count": null,
      "outputs": []
    },
    {
      "cell_type": "code",
      "source": [
        "# clothes colors\n",
        "colors = []\n",
        "with open('/content/drive/MyDrive/In-shop Clothes Retrieval Benchmark/Anno/attributes/list_color_cloth.txt', 'r') as f:\n",
        "    for line in f.readlines():\n",
        "        line = line.strip('\\n')\n",
        "        colors.append(line.split())\n",
        "del colors[0], colors[0]\n",
        "\n",
        "for i in range(len(colors)):\n",
        "    colors[i].remove(colors[i][0])"
      ],
      "metadata": {
        "id": "lQBOPmke9gEW"
      },
      "execution_count": 133,
      "outputs": []
    },
    {
      "cell_type": "code",
      "source": [
        "# list of attributes\n",
        "list_attr_cloth = []\n",
        "with open('/content/drive/MyDrive/In-shop Clothes Retrieval Benchmark/Anno/attributes/list_attr_cloth.txt', 'r') as f:\n",
        "    for line in f.readlines():\n",
        "        line = line.strip('\\n')\n",
        "        list_attr_cloth.append(line.split())\n",
        "del list_attr_cloth[0], list_attr_cloth[0]"
      ],
      "metadata": {
        "id": "dmvaw4fR2rmL"
      },
      "execution_count": 151,
      "outputs": []
    },
    {
      "cell_type": "code",
      "source": [
        "# list of attributes id\n",
        "list_attr_items = []\n",
        "with open('/content/drive/MyDrive/In-shop Clothes Retrieval Benchmark/Anno/attributes/list_attr_items.txt', 'r') as f:\n",
        "    for line in f.readlines():\n",
        "        line = line.strip('\\n')\n",
        "        list_attr_items.append(line.split())\n",
        "del list_attr_items[0], list_attr_items[0]"
      ],
      "metadata": {
        "id": "OKQLO4I94wVo"
      },
      "execution_count": 152,
      "outputs": []
    },
    {
      "cell_type": "code",
      "source": [
        "attribute_dict = {}\n",
        "for i in range(len(list_attr_items)):\n",
        "    att_id = []\n",
        "    att_list = []\n",
        "    for attr in range(len(list_attr_items[i][1:])):\n",
        "        if list_attr_items[i][attr] == '1':\n",
        "            att_id.append(attr-1)\n",
        "    for id in att_id:\n",
        "        att_list.append(list_attr_cloth[id][0])\n",
        "    attribute = \", \".join(att_list)\n",
        "\n",
        "    attribute_dict[list_attr_items[i][0]] = attribute"
      ],
      "metadata": {
        "id": "Sd_LiNuv46r3"
      },
      "execution_count": 166,
      "outputs": []
    },
    {
      "cell_type": "code",
      "source": [
        "for i in range(len(data)):\n",
        "    img = cv2.imread(data[i][0]) # data[i][0] is the image path\n",
        "    cv2.imwrite(f'/content/drive/MyDrive/clothes_data/imgs/{i}.jpg', img)\n",
        "\n",
        "    dic = {'filename': f'{i}.jpg',  # name of file\n",
        "           'object': {'gender': data[i][0].split('/')[1], # MEN or WOMAN\n",
        "                      'name': data[i][0].split('/')[2], # name of cloth such as Blouses_Shirts, Dress, Sweaters, etc\n",
        "                      'pose': data[i][0].split('/')[4].split('_')[2].split('.')[0], # position(front, back, ...)\n",
        "                      'bndbox': {'xmin': data[i][3],\n",
        "                                 'ymin': data[i][4],\n",
        "                                 'xmax': data[i][5],\n",
        "                                 'ymax': data[i][6],\n",
        "                                 },\n",
        "                      'color': \" \".join(colors[i]),\n",
        "                      'description': [description.loc[item][2] for item in range(len(description)) if data[i][0].split('/')[3] == description.loc[item][0]][0],\n",
        "                      'attribute_name': attribute_dict[data[i][0].split('/')[3]]\n",
        "                      }\n",
        "           }\n",
        "    xml = dicttoxml(dic, custom_root='annotation', attr_type = False)\n",
        "    xml_decode = xml.decode()\n",
        "\n",
        "    xmlfile = open(f\"/content/drive/MyDrive/clothes_data/{i}.xml\", \"w\")\n",
        "    xmlfile.write(xml_decode)\n",
        "    xmlfile.close()"
      ],
      "metadata": {
        "id": "0mLV2uOXgFeT"
      },
      "execution_count": null,
      "outputs": []
    },
    {
      "cell_type": "code",
      "source": [],
      "metadata": {
        "id": "mQQZ4wbanmd5"
      },
      "execution_count": 178,
      "outputs": []
    }
  ]
}